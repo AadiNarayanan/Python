{
 "cells": [
  {
   "cell_type": "code",
   "execution_count": 1,
   "id": "7e54377a",
   "metadata": {},
   "outputs": [
    {
     "data": {
      "text/html": [
       "<div>\n",
       "<style scoped>\n",
       "    .dataframe tbody tr th:only-of-type {\n",
       "        vertical-align: middle;\n",
       "    }\n",
       "\n",
       "    .dataframe tbody tr th {\n",
       "        vertical-align: top;\n",
       "    }\n",
       "\n",
       "    .dataframe thead th {\n",
       "        text-align: right;\n",
       "    }\n",
       "</style>\n",
       "<table border=\"1\" class=\"dataframe\">\n",
       "  <thead>\n",
       "    <tr style=\"text-align: right;\">\n",
       "      <th></th>\n",
       "      <th>Id</th>\n",
       "      <th>Date</th>\n",
       "      <th>TotalSteps</th>\n",
       "      <th>TotalDistance</th>\n",
       "      <th>TotalActiveMinutes</th>\n",
       "      <th>Heart_rate</th>\n",
       "      <th>Calories</th>\n",
       "    </tr>\n",
       "  </thead>\n",
       "  <tbody>\n",
       "    <tr>\n",
       "      <th>0</th>\n",
       "      <td>4558609924</td>\n",
       "      <td>04-12-2016</td>\n",
       "      <td>5135</td>\n",
       "      <td>3.39</td>\n",
       "      <td>318</td>\n",
       "      <td>76.639377</td>\n",
       "      <td>1909</td>\n",
       "    </tr>\n",
       "    <tr>\n",
       "      <th>1</th>\n",
       "      <td>4558609924</td>\n",
       "      <td>14-04-2016</td>\n",
       "      <td>6799</td>\n",
       "      <td>4.49</td>\n",
       "      <td>279</td>\n",
       "      <td>81.556556</td>\n",
       "      <td>1922</td>\n",
       "    </tr>\n",
       "    <tr>\n",
       "      <th>2</th>\n",
       "      <td>4558609924</td>\n",
       "      <td>20-04-2016</td>\n",
       "      <td>4803</td>\n",
       "      <td>3.17</td>\n",
       "      <td>222</td>\n",
       "      <td>76.923272</td>\n",
       "      <td>1788</td>\n",
       "    </tr>\n",
       "    <tr>\n",
       "      <th>3</th>\n",
       "      <td>4558609924</td>\n",
       "      <td>24-04-2016</td>\n",
       "      <td>8563</td>\n",
       "      <td>5.66</td>\n",
       "      <td>395</td>\n",
       "      <td>83.969233</td>\n",
       "      <td>2173</td>\n",
       "    </tr>\n",
       "    <tr>\n",
       "      <th>4</th>\n",
       "      <td>4558609924</td>\n",
       "      <td>05-01-2016</td>\n",
       "      <td>3428</td>\n",
       "      <td>2.27</td>\n",
       "      <td>190</td>\n",
       "      <td>70.841904</td>\n",
       "      <td>1692</td>\n",
       "    </tr>\n",
       "    <tr>\n",
       "      <th>...</th>\n",
       "      <td>...</td>\n",
       "      <td>...</td>\n",
       "      <td>...</td>\n",
       "      <td>...</td>\n",
       "      <td>...</td>\n",
       "      <td>...</td>\n",
       "      <td>...</td>\n",
       "    </tr>\n",
       "    <tr>\n",
       "      <th>327</th>\n",
       "      <td>6962181067</td>\n",
       "      <td>05-06-2016</td>\n",
       "      <td>5908</td>\n",
       "      <td>3.91</td>\n",
       "      <td>299</td>\n",
       "      <td>72.334367</td>\n",
       "      <td>1850</td>\n",
       "    </tr>\n",
       "    <tr>\n",
       "      <th>328</th>\n",
       "      <td>6962181067</td>\n",
       "      <td>27-04-2016</td>\n",
       "      <td>10320</td>\n",
       "      <td>6.82</td>\n",
       "      <td>324</td>\n",
       "      <td>72.996975</td>\n",
       "      <td>2034</td>\n",
       "    </tr>\n",
       "    <tr>\n",
       "      <th>329</th>\n",
       "      <td>6962181067</td>\n",
       "      <td>17-04-2016</td>\n",
       "      <td>10145</td>\n",
       "      <td>6.71</td>\n",
       "      <td>313</td>\n",
       "      <td>76.664489</td>\n",
       "      <td>2027</td>\n",
       "    </tr>\n",
       "    <tr>\n",
       "      <th>330</th>\n",
       "      <td>6962181067</td>\n",
       "      <td>05-04-2016</td>\n",
       "      <td>10147</td>\n",
       "      <td>6.71</td>\n",
       "      <td>335</td>\n",
       "      <td>79.474591</td>\n",
       "      <td>2086</td>\n",
       "    </tr>\n",
       "    <tr>\n",
       "      <th>331</th>\n",
       "      <td>6962181067</td>\n",
       "      <td>16-04-2016</td>\n",
       "      <td>13217</td>\n",
       "      <td>8.74</td>\n",
       "      <td>333</td>\n",
       "      <td>82.040182</td>\n",
       "      <td>2173</td>\n",
       "    </tr>\n",
       "  </tbody>\n",
       "</table>\n",
       "<p>332 rows × 7 columns</p>\n",
       "</div>"
      ],
      "text/plain": [
       "             Id        Date  TotalSteps  TotalDistance  TotalActiveMinutes  \\\n",
       "0    4558609924  04-12-2016        5135           3.39                 318   \n",
       "1    4558609924  14-04-2016        6799           4.49                 279   \n",
       "2    4558609924  20-04-2016        4803           3.17                 222   \n",
       "3    4558609924  24-04-2016        8563           5.66                 395   \n",
       "4    4558609924  05-01-2016        3428           2.27                 190   \n",
       "..          ...         ...         ...            ...                 ...   \n",
       "327  6962181067  05-06-2016        5908           3.91                 299   \n",
       "328  6962181067  27-04-2016       10320           6.82                 324   \n",
       "329  6962181067  17-04-2016       10145           6.71                 313   \n",
       "330  6962181067  05-04-2016       10147           6.71                 335   \n",
       "331  6962181067  16-04-2016       13217           8.74                 333   \n",
       "\n",
       "     Heart_rate  Calories  \n",
       "0     76.639377      1909  \n",
       "1     81.556556      1922  \n",
       "2     76.923272      1788  \n",
       "3     83.969233      2173  \n",
       "4     70.841904      1692  \n",
       "..          ...       ...  \n",
       "327   72.334367      1850  \n",
       "328   72.996975      2034  \n",
       "329   76.664489      2027  \n",
       "330   79.474591      2086  \n",
       "331   82.040182      2173  \n",
       "\n",
       "[332 rows x 7 columns]"
      ]
     },
     "execution_count": 1,
     "metadata": {},
     "output_type": "execute_result"
    }
   ],
   "source": [
    "import numpy as np\n",
    "import pandas as pd\n",
    "import matplotlib.pyplot as plt\n",
    "from sklearn.model_selection import train_test_split\n",
    "from sklearn.preprocessing import StandardScaler\n",
    "import seaborn as sns\n",
    "df = pd.read_csv('Heartrate.csv')\n",
    "\n",
    "df"
   ]
  },
  {
   "cell_type": "code",
   "execution_count": 2,
   "id": "dabd35d1",
   "metadata": {},
   "outputs": [
    {
     "name": "stdout",
     "output_type": "stream",
     "text": [
      "             Id       Date  TotalSteps  TotalDistance  TotalActiveMinutes  \\\n",
      "0    4558609924 2016-12-04        5135           3.39                 318   \n",
      "1    4558609924 2016-04-14        6799           4.49                 279   \n",
      "2    4558609924 2016-04-20        4803           3.17                 222   \n",
      "3    4558609924 2016-04-24        8563           5.66                 395   \n",
      "4    4558609924 2016-01-05        3428           2.27                 190   \n",
      "..          ...        ...         ...            ...                 ...   \n",
      "327  6962181067 2016-06-05        5908           3.91                 299   \n",
      "328  6962181067 2016-04-27       10320           6.82                 324   \n",
      "329  6962181067 2016-04-17       10145           6.71                 313   \n",
      "330  6962181067 2016-04-05       10147           6.71                 335   \n",
      "331  6962181067 2016-04-16       13217           8.74                 333   \n",
      "\n",
      "     Heart_rate  Calories        Day     Month  \n",
      "0     76.639377      1909     Sunday  December  \n",
      "1     81.556556      1922   Thursday     April  \n",
      "2     76.923272      1788  Wednesday     April  \n",
      "3     83.969233      2173     Sunday     April  \n",
      "4     70.841904      1692    Tuesday   January  \n",
      "..          ...       ...        ...       ...  \n",
      "327   72.334367      1850     Sunday      June  \n",
      "328   72.996975      2034  Wednesday     April  \n",
      "329   76.664489      2027     Sunday     April  \n",
      "330   79.474591      2086    Tuesday     April  \n",
      "331   82.040182      2173   Saturday     April  \n",
      "\n",
      "[332 rows x 9 columns]\n"
     ]
    }
   ],
   "source": [
    "from datetime import datetime\n",
    "\n",
    "# Convert 'date' column to datetime format with specified format\n",
    "df['Date'] = pd.to_datetime(df['Date'], format='%d-%m-%Y')\n",
    "\n",
    "# Extract day of the week and month name into new columns\n",
    "df['Day'] = df['Date'].dt.strftime('%A') # Full name of the day (e.g., Monday)\n",
    "df['Month'] = df['Date'].dt.strftime('%B') # Full name of the month (e.g., January)\n",
    "\n",
    "print(df)"
   ]
  },
  {
   "cell_type": "code",
   "execution_count": 3,
   "id": "3291663a",
   "metadata": {},
   "outputs": [],
   "source": [
    "#dropping unwanted columns\n",
    "columns_to_drop = ['Id','Date']\n",
    "df= df.drop(columns_to_drop,axis = 1)"
   ]
  },
  {
   "cell_type": "code",
   "execution_count": 4,
   "id": "17786928",
   "metadata": {},
   "outputs": [
    {
     "data": {
      "text/html": [
       "<div>\n",
       "<style scoped>\n",
       "    .dataframe tbody tr th:only-of-type {\n",
       "        vertical-align: middle;\n",
       "    }\n",
       "\n",
       "    .dataframe tbody tr th {\n",
       "        vertical-align: top;\n",
       "    }\n",
       "\n",
       "    .dataframe thead th {\n",
       "        text-align: right;\n",
       "    }\n",
       "</style>\n",
       "<table border=\"1\" class=\"dataframe\">\n",
       "  <thead>\n",
       "    <tr style=\"text-align: right;\">\n",
       "      <th></th>\n",
       "      <th>TotalSteps</th>\n",
       "      <th>TotalDistance</th>\n",
       "      <th>TotalActiveMinutes</th>\n",
       "      <th>Heart_rate</th>\n",
       "      <th>Calories</th>\n",
       "      <th>Day</th>\n",
       "      <th>Month</th>\n",
       "    </tr>\n",
       "  </thead>\n",
       "  <tbody>\n",
       "    <tr>\n",
       "      <th>0</th>\n",
       "      <td>5135</td>\n",
       "      <td>3.39</td>\n",
       "      <td>318</td>\n",
       "      <td>76.639377</td>\n",
       "      <td>1909</td>\n",
       "      <td>Sunday</td>\n",
       "      <td>December</td>\n",
       "    </tr>\n",
       "    <tr>\n",
       "      <th>1</th>\n",
       "      <td>6799</td>\n",
       "      <td>4.49</td>\n",
       "      <td>279</td>\n",
       "      <td>81.556556</td>\n",
       "      <td>1922</td>\n",
       "      <td>Thursday</td>\n",
       "      <td>April</td>\n",
       "    </tr>\n",
       "    <tr>\n",
       "      <th>2</th>\n",
       "      <td>4803</td>\n",
       "      <td>3.17</td>\n",
       "      <td>222</td>\n",
       "      <td>76.923272</td>\n",
       "      <td>1788</td>\n",
       "      <td>Wednesday</td>\n",
       "      <td>April</td>\n",
       "    </tr>\n",
       "    <tr>\n",
       "      <th>3</th>\n",
       "      <td>8563</td>\n",
       "      <td>5.66</td>\n",
       "      <td>395</td>\n",
       "      <td>83.969233</td>\n",
       "      <td>2173</td>\n",
       "      <td>Sunday</td>\n",
       "      <td>April</td>\n",
       "    </tr>\n",
       "    <tr>\n",
       "      <th>4</th>\n",
       "      <td>3428</td>\n",
       "      <td>2.27</td>\n",
       "      <td>190</td>\n",
       "      <td>70.841904</td>\n",
       "      <td>1692</td>\n",
       "      <td>Tuesday</td>\n",
       "      <td>January</td>\n",
       "    </tr>\n",
       "    <tr>\n",
       "      <th>...</th>\n",
       "      <td>...</td>\n",
       "      <td>...</td>\n",
       "      <td>...</td>\n",
       "      <td>...</td>\n",
       "      <td>...</td>\n",
       "      <td>...</td>\n",
       "      <td>...</td>\n",
       "    </tr>\n",
       "    <tr>\n",
       "      <th>327</th>\n",
       "      <td>5908</td>\n",
       "      <td>3.91</td>\n",
       "      <td>299</td>\n",
       "      <td>72.334367</td>\n",
       "      <td>1850</td>\n",
       "      <td>Sunday</td>\n",
       "      <td>June</td>\n",
       "    </tr>\n",
       "    <tr>\n",
       "      <th>328</th>\n",
       "      <td>10320</td>\n",
       "      <td>6.82</td>\n",
       "      <td>324</td>\n",
       "      <td>72.996975</td>\n",
       "      <td>2034</td>\n",
       "      <td>Wednesday</td>\n",
       "      <td>April</td>\n",
       "    </tr>\n",
       "    <tr>\n",
       "      <th>329</th>\n",
       "      <td>10145</td>\n",
       "      <td>6.71</td>\n",
       "      <td>313</td>\n",
       "      <td>76.664489</td>\n",
       "      <td>2027</td>\n",
       "      <td>Sunday</td>\n",
       "      <td>April</td>\n",
       "    </tr>\n",
       "    <tr>\n",
       "      <th>330</th>\n",
       "      <td>10147</td>\n",
       "      <td>6.71</td>\n",
       "      <td>335</td>\n",
       "      <td>79.474591</td>\n",
       "      <td>2086</td>\n",
       "      <td>Tuesday</td>\n",
       "      <td>April</td>\n",
       "    </tr>\n",
       "    <tr>\n",
       "      <th>331</th>\n",
       "      <td>13217</td>\n",
       "      <td>8.74</td>\n",
       "      <td>333</td>\n",
       "      <td>82.040182</td>\n",
       "      <td>2173</td>\n",
       "      <td>Saturday</td>\n",
       "      <td>April</td>\n",
       "    </tr>\n",
       "  </tbody>\n",
       "</table>\n",
       "<p>332 rows × 7 columns</p>\n",
       "</div>"
      ],
      "text/plain": [
       "     TotalSteps  TotalDistance  TotalActiveMinutes  Heart_rate  Calories  \\\n",
       "0          5135           3.39                 318   76.639377      1909   \n",
       "1          6799           4.49                 279   81.556556      1922   \n",
       "2          4803           3.17                 222   76.923272      1788   \n",
       "3          8563           5.66                 395   83.969233      2173   \n",
       "4          3428           2.27                 190   70.841904      1692   \n",
       "..          ...            ...                 ...         ...       ...   \n",
       "327        5908           3.91                 299   72.334367      1850   \n",
       "328       10320           6.82                 324   72.996975      2034   \n",
       "329       10145           6.71                 313   76.664489      2027   \n",
       "330       10147           6.71                 335   79.474591      2086   \n",
       "331       13217           8.74                 333   82.040182      2173   \n",
       "\n",
       "           Day     Month  \n",
       "0       Sunday  December  \n",
       "1     Thursday     April  \n",
       "2    Wednesday     April  \n",
       "3       Sunday     April  \n",
       "4      Tuesday   January  \n",
       "..         ...       ...  \n",
       "327     Sunday      June  \n",
       "328  Wednesday     April  \n",
       "329     Sunday     April  \n",
       "330    Tuesday     April  \n",
       "331   Saturday     April  \n",
       "\n",
       "[332 rows x 7 columns]"
      ]
     },
     "execution_count": 4,
     "metadata": {},
     "output_type": "execute_result"
    }
   ],
   "source": [
    "df"
   ]
  },
  {
   "cell_type": "code",
   "execution_count": 5,
   "id": "4cfa935c",
   "metadata": {},
   "outputs": [
    {
     "name": "stderr",
     "output_type": "stream",
     "text": [
      "C:\\Users\\aadin\\AppData\\Local\\Temp\\ipykernel_20148\\2199168180.py:1: FutureWarning: The default value of numeric_only in DataFrame.corr is deprecated. In a future version, it will default to False. Select only valid columns or specify the value of numeric_only to silence this warning.\n",
      "  corrmatrix = df.corr()\n"
     ]
    },
    {
     "data": {
      "text/plain": [
       "<Axes: >"
      ]
     },
     "execution_count": 5,
     "metadata": {},
     "output_type": "execute_result"
    },
    {
     "data": {
      "image/png": "[encoded data removed]",
      "text/plain": [
       "<Figure size 2000x800 with 2 Axes>"
      ]
     },
     "metadata": {},
     "output_type": "display_data"
    }
   ],
   "source": [
    "corrmatrix = df.corr()\n",
    "plt.subplots(figsize = (20,8))\n",
    "sns.heatmap(corrmatrix,vmin = -0.7,vmax= 0.7, annot = True,linewidths=0.2,cmap='YlGnBu')"
   ]
  },
  {
   "cell_type": "code",
   "execution_count": 6,
   "id": "d7cf88ef",
   "metadata": {
    "scrolled": true
   },
   "outputs": [
    {
     "data": {
      "text/plain": [
       "TotalSteps            0\n",
       "TotalDistance         0\n",
       "TotalActiveMinutes    0\n",
       "Heart_rate            0\n",
       "Calories              0\n",
       "Day                   0\n",
       "Month                 0\n",
       "dtype: int64"
      ]
     },
     "execution_count": 6,
     "metadata": {},
     "output_type": "execute_result"
    }
   ],
   "source": [
    "df.isnull().sum()"
   ]
  },
  {
   "cell_type": "code",
   "execution_count": 7,
   "id": "786813dc",
   "metadata": {
    "scrolled": true
   },
   "outputs": [
    {
     "data": {
      "text/html": [
       "<div>\n",
       "<style scoped>\n",
       "    .dataframe tbody tr th:only-of-type {\n",
       "        vertical-align: middle;\n",
       "    }\n",
       "\n",
       "    .dataframe tbody tr th {\n",
       "        vertical-align: top;\n",
       "    }\n",
       "\n",
       "    .dataframe thead th {\n",
       "        text-align: right;\n",
       "    }\n",
       "</style>\n",
       "<table border=\"1\" class=\"dataframe\">\n",
       "  <thead>\n",
       "    <tr style=\"text-align: right;\">\n",
       "      <th></th>\n",
       "      <th>TotalSteps</th>\n",
       "      <th>TotalDistance</th>\n",
       "      <th>TotalActiveMinutes</th>\n",
       "      <th>Heart_rate</th>\n",
       "      <th>Calories</th>\n",
       "      <th>Day</th>\n",
       "      <th>Month</th>\n",
       "      <th>Day_encoded</th>\n",
       "      <th>Month_encoded</th>\n",
       "    </tr>\n",
       "  </thead>\n",
       "  <tbody>\n",
       "    <tr>\n",
       "      <th>0</th>\n",
       "      <td>5135</td>\n",
       "      <td>3.39</td>\n",
       "      <td>318</td>\n",
       "      <td>76.639377</td>\n",
       "      <td>1909</td>\n",
       "      <td>Sunday</td>\n",
       "      <td>December</td>\n",
       "      <td>3</td>\n",
       "      <td>2</td>\n",
       "    </tr>\n",
       "    <tr>\n",
       "      <th>1</th>\n",
       "      <td>6799</td>\n",
       "      <td>4.49</td>\n",
       "      <td>279</td>\n",
       "      <td>81.556556</td>\n",
       "      <td>1922</td>\n",
       "      <td>Thursday</td>\n",
       "      <td>April</td>\n",
       "      <td>4</td>\n",
       "      <td>0</td>\n",
       "    </tr>\n",
       "    <tr>\n",
       "      <th>2</th>\n",
       "      <td>4803</td>\n",
       "      <td>3.17</td>\n",
       "      <td>222</td>\n",
       "      <td>76.923272</td>\n",
       "      <td>1788</td>\n",
       "      <td>Wednesday</td>\n",
       "      <td>April</td>\n",
       "      <td>6</td>\n",
       "      <td>0</td>\n",
       "    </tr>\n",
       "    <tr>\n",
       "      <th>3</th>\n",
       "      <td>8563</td>\n",
       "      <td>5.66</td>\n",
       "      <td>395</td>\n",
       "      <td>83.969233</td>\n",
       "      <td>2173</td>\n",
       "      <td>Sunday</td>\n",
       "      <td>April</td>\n",
       "      <td>3</td>\n",
       "      <td>0</td>\n",
       "    </tr>\n",
       "    <tr>\n",
       "      <th>4</th>\n",
       "      <td>3428</td>\n",
       "      <td>2.27</td>\n",
       "      <td>190</td>\n",
       "      <td>70.841904</td>\n",
       "      <td>1692</td>\n",
       "      <td>Tuesday</td>\n",
       "      <td>January</td>\n",
       "      <td>5</td>\n",
       "      <td>4</td>\n",
       "    </tr>\n",
       "    <tr>\n",
       "      <th>...</th>\n",
       "      <td>...</td>\n",
       "      <td>...</td>\n",
       "      <td>...</td>\n",
       "      <td>...</td>\n",
       "      <td>...</td>\n",
       "      <td>...</td>\n",
       "      <td>...</td>\n",
       "      <td>...</td>\n",
       "      <td>...</td>\n",
       "    </tr>\n",
       "    <tr>\n",
       "      <th>327</th>\n",
       "      <td>5908</td>\n",
       "      <td>3.91</td>\n",
       "      <td>299</td>\n",
       "      <td>72.334367</td>\n",
       "      <td>1850</td>\n",
       "      <td>Sunday</td>\n",
       "      <td>June</td>\n",
       "      <td>3</td>\n",
       "      <td>6</td>\n",
       "    </tr>\n",
       "    <tr>\n",
       "      <th>328</th>\n",
       "      <td>10320</td>\n",
       "      <td>6.82</td>\n",
       "      <td>324</td>\n",
       "      <td>72.996975</td>\n",
       "      <td>2034</td>\n",
       "      <td>Wednesday</td>\n",
       "      <td>April</td>\n",
       "      <td>6</td>\n",
       "      <td>0</td>\n",
       "    </tr>\n",
       "    <tr>\n",
       "      <th>329</th>\n",
       "      <td>10145</td>\n",
       "      <td>6.71</td>\n",
       "      <td>313</td>\n",
       "      <td>76.664489</td>\n",
       "      <td>2027</td>\n",
       "      <td>Sunday</td>\n",
       "      <td>April</td>\n",
       "      <td>3</td>\n",
       "      <td>0</td>\n",
       "    </tr>\n",
       "    <tr>\n",
       "      <th>330</th>\n",
       "      <td>10147</td>\n",
       "      <td>6.71</td>\n",
       "      <td>335</td>\n",
       "      <td>79.474591</td>\n",
       "      <td>2086</td>\n",
       "      <td>Tuesday</td>\n",
       "      <td>April</td>\n",
       "      <td>5</td>\n",
       "      <td>0</td>\n",
       "    </tr>\n",
       "    <tr>\n",
       "      <th>331</th>\n",
       "      <td>13217</td>\n",
       "      <td>8.74</td>\n",
       "      <td>333</td>\n",
       "      <td>82.040182</td>\n",
       "      <td>2173</td>\n",
       "      <td>Saturday</td>\n",
       "      <td>April</td>\n",
       "      <td>2</td>\n",
       "      <td>0</td>\n",
       "    </tr>\n",
       "  </tbody>\n",
       "</table>\n",
       "<p>332 rows × 9 columns</p>\n",
       "</div>"
      ],
      "text/plain": [
       "     TotalSteps  TotalDistance  TotalActiveMinutes  Heart_rate  Calories  \\\n",
       "0          5135           3.39                 318   76.639377      1909   \n",
       "1          6799           4.49                 279   81.556556      1922   \n",
       "2          4803           3.17                 222   76.923272      1788   \n",
       "3          8563           5.66                 395   83.969233      2173   \n",
       "4          3428           2.27                 190   70.841904      1692   \n",
       "..          ...            ...                 ...         ...       ...   \n",
       "327        5908           3.91                 299   72.334367      1850   \n",
       "328       10320           6.82                 324   72.996975      2034   \n",
       "329       10145           6.71                 313   76.664489      2027   \n",
       "330       10147           6.71                 335   79.474591      2086   \n",
       "331       13217           8.74                 333   82.040182      2173   \n",
       "\n",
       "           Day     Month  Day_encoded  Month_encoded  \n",
       "0       Sunday  December            3              2  \n",
       "1     Thursday     April            4              0  \n",
       "2    Wednesday     April            6              0  \n",
       "3       Sunday     April            3              0  \n",
       "4      Tuesday   January            5              4  \n",
       "..         ...       ...          ...            ...  \n",
       "327     Sunday      June            3              6  \n",
       "328  Wednesday     April            6              0  \n",
       "329     Sunday     April            3              0  \n",
       "330    Tuesday     April            5              0  \n",
       "331   Saturday     April            2              0  \n",
       "\n",
       "[332 rows x 9 columns]"
      ]
     },
     "execution_count": 7,
     "metadata": {},
     "output_type": "execute_result"
    }
   ],
   "source": [
    "from sklearn.preprocessing import LabelEncoder\n",
    "\n",
    "# Initialize LabelEncoder for 'day' column\n",
    "day_encoder = LabelEncoder()\n",
    "df['Day_encoded'] = day_encoder.fit_transform(df['Day'])\n",
    "\n",
    "# Initialize LabelEncoder for 'month' column\n",
    "month_encoder = LabelEncoder()\n",
    "df['Month_encoded'] = month_encoder.fit_transform(df['Month'])\n",
    "\n",
    "df\n"
   ]
  },
  {
   "cell_type": "code",
   "execution_count": 8,
   "id": "2997a654",
   "metadata": {},
   "outputs": [
    {
     "data": {
      "text/html": [
       "<div>\n",
       "<style scoped>\n",
       "    .dataframe tbody tr th:only-of-type {\n",
       "        vertical-align: middle;\n",
       "    }\n",
       "\n",
       "    .dataframe tbody tr th {\n",
       "        vertical-align: top;\n",
       "    }\n",
       "\n",
       "    .dataframe thead th {\n",
       "        text-align: right;\n",
       "    }\n",
       "</style>\n",
       "<table border=\"1\" class=\"dataframe\">\n",
       "  <thead>\n",
       "    <tr style=\"text-align: right;\">\n",
       "      <th></th>\n",
       "      <th>TotalSteps</th>\n",
       "      <th>TotalDistance</th>\n",
       "      <th>TotalActiveMinutes</th>\n",
       "      <th>Heart_rate</th>\n",
       "      <th>Calories</th>\n",
       "      <th>Day_encoded</th>\n",
       "      <th>Month_encoded</th>\n",
       "    </tr>\n",
       "  </thead>\n",
       "  <tbody>\n",
       "    <tr>\n",
       "      <th>0</th>\n",
       "      <td>5135</td>\n",
       "      <td>3.39</td>\n",
       "      <td>318</td>\n",
       "      <td>76.639377</td>\n",
       "      <td>1909</td>\n",
       "      <td>3</td>\n",
       "      <td>2</td>\n",
       "    </tr>\n",
       "    <tr>\n",
       "      <th>1</th>\n",
       "      <td>6799</td>\n",
       "      <td>4.49</td>\n",
       "      <td>279</td>\n",
       "      <td>81.556556</td>\n",
       "      <td>1922</td>\n",
       "      <td>4</td>\n",
       "      <td>0</td>\n",
       "    </tr>\n",
       "    <tr>\n",
       "      <th>2</th>\n",
       "      <td>4803</td>\n",
       "      <td>3.17</td>\n",
       "      <td>222</td>\n",
       "      <td>76.923272</td>\n",
       "      <td>1788</td>\n",
       "      <td>6</td>\n",
       "      <td>0</td>\n",
       "    </tr>\n",
       "    <tr>\n",
       "      <th>3</th>\n",
       "      <td>8563</td>\n",
       "      <td>5.66</td>\n",
       "      <td>395</td>\n",
       "      <td>83.969233</td>\n",
       "      <td>2173</td>\n",
       "      <td>3</td>\n",
       "      <td>0</td>\n",
       "    </tr>\n",
       "    <tr>\n",
       "      <th>4</th>\n",
       "      <td>3428</td>\n",
       "      <td>2.27</td>\n",
       "      <td>190</td>\n",
       "      <td>70.841904</td>\n",
       "      <td>1692</td>\n",
       "      <td>5</td>\n",
       "      <td>4</td>\n",
       "    </tr>\n",
       "    <tr>\n",
       "      <th>...</th>\n",
       "      <td>...</td>\n",
       "      <td>...</td>\n",
       "      <td>...</td>\n",
       "      <td>...</td>\n",
       "      <td>...</td>\n",
       "      <td>...</td>\n",
       "      <td>...</td>\n",
       "    </tr>\n",
       "    <tr>\n",
       "      <th>327</th>\n",
       "      <td>5908</td>\n",
       "      <td>3.91</td>\n",
       "      <td>299</td>\n",
       "      <td>72.334367</td>\n",
       "      <td>1850</td>\n",
       "      <td>3</td>\n",
       "      <td>6</td>\n",
       "    </tr>\n",
       "    <tr>\n",
       "      <th>328</th>\n",
       "      <td>10320</td>\n",
       "      <td>6.82</td>\n",
       "      <td>324</td>\n",
       "      <td>72.996975</td>\n",
       "      <td>2034</td>\n",
       "      <td>6</td>\n",
       "      <td>0</td>\n",
       "    </tr>\n",
       "    <tr>\n",
       "      <th>329</th>\n",
       "      <td>10145</td>\n",
       "      <td>6.71</td>\n",
       "      <td>313</td>\n",
       "      <td>76.664489</td>\n",
       "      <td>2027</td>\n",
       "      <td>3</td>\n",
       "      <td>0</td>\n",
       "    </tr>\n",
       "    <tr>\n",
       "      <th>330</th>\n",
       "      <td>10147</td>\n",
       "      <td>6.71</td>\n",
       "      <td>335</td>\n",
       "      <td>79.474591</td>\n",
       "      <td>2086</td>\n",
       "      <td>5</td>\n",
       "      <td>0</td>\n",
       "    </tr>\n",
       "    <tr>\n",
       "      <th>331</th>\n",
       "      <td>13217</td>\n",
       "      <td>8.74</td>\n",
       "      <td>333</td>\n",
       "      <td>82.040182</td>\n",
       "      <td>2173</td>\n",
       "      <td>2</td>\n",
       "      <td>0</td>\n",
       "    </tr>\n",
       "  </tbody>\n",
       "</table>\n",
       "<p>332 rows × 7 columns</p>\n",
       "</div>"
      ],
      "text/plain": [
       "     TotalSteps  TotalDistance  TotalActiveMinutes  Heart_rate  Calories  \\\n",
       "0          5135           3.39                 318   76.639377      1909   \n",
       "1          6799           4.49                 279   81.556556      1922   \n",
       "2          4803           3.17                 222   76.923272      1788   \n",
       "3          8563           5.66                 395   83.969233      2173   \n",
       "4          3428           2.27                 190   70.841904      1692   \n",
       "..          ...            ...                 ...         ...       ...   \n",
       "327        5908           3.91                 299   72.334367      1850   \n",
       "328       10320           6.82                 324   72.996975      2034   \n",
       "329       10145           6.71                 313   76.664489      2027   \n",
       "330       10147           6.71                 335   79.474591      2086   \n",
       "331       13217           8.74                 333   82.040182      2173   \n",
       "\n",
       "     Day_encoded  Month_encoded  \n",
       "0              3              2  \n",
       "1              4              0  \n",
       "2              6              0  \n",
       "3              3              0  \n",
       "4              5              4  \n",
       "..           ...            ...  \n",
       "327            3              6  \n",
       "328            6              0  \n",
       "329            3              0  \n",
       "330            5              0  \n",
       "331            2              0  \n",
       "\n",
       "[332 rows x 7 columns]"
      ]
     },
     "execution_count": 8,
     "metadata": {},
     "output_type": "execute_result"
    }
   ],
   "source": [
    "#dropping unwanted columns\n",
    "columns_to_drop = ['Day','Month']\n",
    "df= df.drop(columns_to_drop,axis = 1)\n",
    "df"
   ]
  },
  {
   "cell_type": "code",
   "execution_count": 9,
   "id": "5f59cbcc",
   "metadata": {},
   "outputs": [
    {
     "data": {
      "image/png": "[encoded data removed]",
      "text/plain": [
       "<Figure size 640x480 with 1 Axes>"
      ]
     },
     "metadata": {},
     "output_type": "display_data"
    }
   ],
   "source": [
    "sns.boxplot(df)\n",
    "plt.title('Box Plot for Outlier Detection')\n",
    "plt.show()"
   ]
  },
  {
   "cell_type": "code",
   "execution_count": 10,
   "id": "26031b06",
   "metadata": {},
   "outputs": [
    {
     "data": {
      "text/plain": [
       "6699.75"
      ]
     },
     "execution_count": 10,
     "metadata": {},
     "output_type": "execute_result"
    }
   ],
   "source": [
    "# treating the outlier\n",
    "\n",
    "q1 = df['TotalSteps'].quantile (0.25)\n",
    "q3 = df['TotalSteps'].quantile (0.75)\n",
    "\n",
    "iqr = q3-q1\n",
    "iqr"
   ]
  },
  {
   "cell_type": "code",
   "execution_count": 11,
   "id": "94d1fda8",
   "metadata": {},
   "outputs": [
    {
     "name": "stdout",
     "output_type": "stream",
     "text": [
      "22199.625\n",
      "-4599.375\n"
     ]
    }
   ],
   "source": [
    "upper_limit = q3+1.5*iqr\n",
    "lower_limit = q1-1.5*iqr\n",
    "\n",
    "print(upper_limit)\n",
    "print(lower_limit)"
   ]
  },
  {
   "cell_type": "code",
   "execution_count": 12,
   "id": "7be4fa99",
   "metadata": {},
   "outputs": [],
   "source": [
    "def limit_imputer(value):\n",
    "    if value>upper_limit:\n",
    "        return upper_limit\n",
    "    if value<lower_limit:\n",
    "        return lower_limit\n",
    "    else:\n",
    "        return value"
   ]
  },
  {
   "cell_type": "code",
   "execution_count": 13,
   "id": "83193fff",
   "metadata": {},
   "outputs": [],
   "source": [
    "#applying the imputer function\n",
    "\n",
    "df['TotalSteps']= df['TotalSteps'].apply(limit_imputer)"
   ]
  },
  {
   "cell_type": "code",
   "execution_count": 14,
   "id": "b9311d87",
   "metadata": {},
   "outputs": [
    {
     "data": {
      "image/png": "[encoded data removed]",
      "text/plain": [
       "<Figure size 640x480 with 1 Axes>"
      ]
     },
     "metadata": {},
     "output_type": "display_data"
    }
   ],
   "source": [
    "sns.boxplot(df)\n",
    "plt.title('Box Plot for Outlier Detection')\n",
    "plt.show()"
   ]
  },
  {
   "cell_type": "code",
   "execution_count": 15,
   "id": "1e867654",
   "metadata": {},
   "outputs": [
    {
     "data": {
      "text/plain": [
       "<Axes: xlabel='TotalActiveMinutes'>"
      ]
     },
     "execution_count": 15,
     "metadata": {},
     "output_type": "execute_result"
    },
    {
     "data": {
      "image/png": "[encoded data removed]",
      "text/plain": [
       "<Figure size 640x480 with 1 Axes>"
      ]
     },
     "metadata": {},
     "output_type": "display_data"
    }
   ],
   "source": [
    "sns.boxplot(x = df ['TotalActiveMinutes'])"
   ]
  },
  {
   "cell_type": "code",
   "execution_count": 16,
   "id": "4e195c4e",
   "metadata": {},
   "outputs": [
    {
     "data": {
      "text/plain": [
       "127.5"
      ]
     },
     "execution_count": 16,
     "metadata": {},
     "output_type": "execute_result"
    }
   ],
   "source": [
    "q1 = df['TotalActiveMinutes'].quantile (0.25)\n",
    "q3 = df['TotalActiveMinutes'].quantile (0.75)\n",
    "\n",
    "iqr = q3-q1\n",
    "iqr"
   ]
  },
  {
   "cell_type": "code",
   "execution_count": 17,
   "id": "6758fbef",
   "metadata": {},
   "outputs": [
    {
     "name": "stdout",
     "output_type": "stream",
     "text": [
      "535.5\n",
      "25.5\n"
     ]
    }
   ],
   "source": [
    "upper_limit = q3+1.5*iqr\n",
    "lower_limit = q1-1.5*iqr\n",
    "\n",
    "print(upper_limit)\n",
    "print(lower_limit)"
   ]
  },
  {
   "cell_type": "code",
   "execution_count": 18,
   "id": "7e7183cb",
   "metadata": {},
   "outputs": [],
   "source": [
    "df['TotalActiveMinutes']= df['TotalActiveMinutes'].apply(limit_imputer)"
   ]
  },
  {
   "cell_type": "code",
   "execution_count": 19,
   "id": "70062975",
   "metadata": {},
   "outputs": [
    {
     "data": {
      "text/plain": [
       "<Axes: xlabel='TotalDistance'>"
      ]
     },
     "execution_count": 19,
     "metadata": {},
     "output_type": "execute_result"
    },
    {
     "data": {
      "image/png": "[encoded data removed]",
      "text/plain": [
       "<Figure size 640x480 with 1 Axes>"
      ]
     },
     "metadata": {},
     "output_type": "display_data"
    }
   ],
   "source": [
    "sns.boxplot(x = df ['TotalDistance'])"
   ]
  },
  {
   "cell_type": "code",
   "execution_count": 20,
   "id": "e6aba79e",
   "metadata": {},
   "outputs": [
    {
     "data": {
      "text/plain": [
       "4.8199998735"
      ]
     },
     "execution_count": 20,
     "metadata": {},
     "output_type": "execute_result"
    }
   ],
   "source": [
    "q1 = df['TotalDistance'].quantile (0.25)\n",
    "q3 = df['TotalDistance'].quantile (0.75)\n",
    "\n",
    "iqr = q3-q1\n",
    "iqr"
   ]
  },
  {
   "cell_type": "code",
   "execution_count": 21,
   "id": "66c49547",
   "metadata": {},
   "outputs": [
    {
     "name": "stdout",
     "output_type": "stream",
     "text": [
      "15.787499696\n",
      "-3.492499798\n"
     ]
    }
   ],
   "source": [
    "upper_limit = q3+1.5*iqr\n",
    "lower_limit = q1-1.5*iqr\n",
    "\n",
    "print(upper_limit)\n",
    "print(lower_limit)"
   ]
  },
  {
   "cell_type": "code",
   "execution_count": 22,
   "id": "63321e5c",
   "metadata": {},
   "outputs": [],
   "source": [
    "df['TotalDistance']= df['TotalDistance'].apply(limit_imputer)"
   ]
  },
  {
   "cell_type": "code",
   "execution_count": 23,
   "id": "ee73951a",
   "metadata": {},
   "outputs": [
    {
     "data": {
      "image/png": "[encoded data removed]",
      "text/plain": [
       "<Figure size 640x480 with 1 Axes>"
      ]
     },
     "metadata": {},
     "output_type": "display_data"
    }
   ],
   "source": [
    "sns.boxplot(df)\n",
    "plt.title('Box Plot for Outlier Detection')\n",
    "plt.show()"
   ]
  },
  {
   "cell_type": "code",
   "execution_count": 24,
   "id": "70fa9f9a",
   "metadata": {},
   "outputs": [
    {
     "data": {
      "text/plain": [
       "<Axes: xlabel='Heart_rate'>"
      ]
     },
     "execution_count": 24,
     "metadata": {},
     "output_type": "execute_result"
    },
    {
     "data": {
      "image/png": "[encoded data removed]",
      "text/plain": [
       "<Figure size 640x480 with 1 Axes>"
      ]
     },
     "metadata": {},
     "output_type": "display_data"
    }
   ],
   "source": [
    "sns.boxplot(x = df ['Heart_rate'])"
   ]
  },
  {
   "cell_type": "code",
   "execution_count": 25,
   "id": "c819bf14",
   "metadata": {},
   "outputs": [
    {
     "data": {
      "text/plain": [
       "14.418096347499997"
      ]
     },
     "execution_count": 25,
     "metadata": {},
     "output_type": "execute_result"
    }
   ],
   "source": [
    "q1 = df['Heart_rate'].quantile (0.25)\n",
    "q3 = df['Heart_rate'].quantile (0.75)\n",
    "\n",
    "iqr = q3-q1\n",
    "iqr"
   ]
  },
  {
   "cell_type": "code",
   "execution_count": 26,
   "id": "22684d73",
   "metadata": {},
   "outputs": [
    {
     "name": "stdout",
     "output_type": "stream",
     "text": [
      "106.49754879374998\n",
      "48.825163403750004\n"
     ]
    }
   ],
   "source": [
    "upper_limit = q3+1.5*iqr\n",
    "lower_limit = q1-1.5*iqr\n",
    "\n",
    "print(upper_limit)\n",
    "print(lower_limit)"
   ]
  },
  {
   "cell_type": "code",
   "execution_count": 27,
   "id": "7abff932",
   "metadata": {},
   "outputs": [],
   "source": [
    "df['Heart_rate']= df['Heart_rate'].apply(limit_imputer)"
   ]
  },
  {
   "cell_type": "code",
   "execution_count": 28,
   "id": "a6a9590e",
   "metadata": {},
   "outputs": [
    {
     "data": {
      "image/png": "[encoded data removed]",
      "text/plain": [
       "<Figure size 640x480 with 1 Axes>"
      ]
     },
     "metadata": {},
     "output_type": "display_data"
    }
   ],
   "source": [
    "sns.boxplot(df)\n",
    "plt.title('Box Plot for Outlier Detection')\n",
    "plt.show()"
   ]
  },
  {
   "cell_type": "code",
   "execution_count": 29,
   "id": "a7e5bdeb",
   "metadata": {},
   "outputs": [],
   "source": [
    "x_df = df.drop('Calories', axis = 1)\n",
    "y_df = df['Calories']"
   ]
  },
  {
   "cell_type": "code",
   "execution_count": 30,
   "id": "6025f28d",
   "metadata": {},
   "outputs": [
    {
     "data": {
      "text/html": [
       "<div>\n",
       "<style scoped>\n",
       "    .dataframe tbody tr th:only-of-type {\n",
       "        vertical-align: middle;\n",
       "    }\n",
       "\n",
       "    .dataframe tbody tr th {\n",
       "        vertical-align: top;\n",
       "    }\n",
       "\n",
       "    .dataframe thead th {\n",
       "        text-align: right;\n",
       "    }\n",
       "</style>\n",
       "<table border=\"1\" class=\"dataframe\">\n",
       "  <thead>\n",
       "    <tr style=\"text-align: right;\">\n",
       "      <th></th>\n",
       "      <th>TotalSteps</th>\n",
       "      <th>TotalDistance</th>\n",
       "      <th>TotalActiveMinutes</th>\n",
       "      <th>Heart_rate</th>\n",
       "      <th>Day_encoded</th>\n",
       "      <th>Month_encoded</th>\n",
       "    </tr>\n",
       "  </thead>\n",
       "  <tbody>\n",
       "    <tr>\n",
       "      <th>0</th>\n",
       "      <td>5135.0</td>\n",
       "      <td>3.39</td>\n",
       "      <td>318.0</td>\n",
       "      <td>76.639377</td>\n",
       "      <td>3</td>\n",
       "      <td>2</td>\n",
       "    </tr>\n",
       "    <tr>\n",
       "      <th>1</th>\n",
       "      <td>6799.0</td>\n",
       "      <td>4.49</td>\n",
       "      <td>279.0</td>\n",
       "      <td>81.556556</td>\n",
       "      <td>4</td>\n",
       "      <td>0</td>\n",
       "    </tr>\n",
       "    <tr>\n",
       "      <th>2</th>\n",
       "      <td>4803.0</td>\n",
       "      <td>3.17</td>\n",
       "      <td>222.0</td>\n",
       "      <td>76.923272</td>\n",
       "      <td>6</td>\n",
       "      <td>0</td>\n",
       "    </tr>\n",
       "    <tr>\n",
       "      <th>3</th>\n",
       "      <td>8563.0</td>\n",
       "      <td>5.66</td>\n",
       "      <td>395.0</td>\n",
       "      <td>83.969233</td>\n",
       "      <td>3</td>\n",
       "      <td>0</td>\n",
       "    </tr>\n",
       "    <tr>\n",
       "      <th>4</th>\n",
       "      <td>3428.0</td>\n",
       "      <td>2.27</td>\n",
       "      <td>190.0</td>\n",
       "      <td>70.841904</td>\n",
       "      <td>5</td>\n",
       "      <td>4</td>\n",
       "    </tr>\n",
       "    <tr>\n",
       "      <th>...</th>\n",
       "      <td>...</td>\n",
       "      <td>...</td>\n",
       "      <td>...</td>\n",
       "      <td>...</td>\n",
       "      <td>...</td>\n",
       "      <td>...</td>\n",
       "    </tr>\n",
       "    <tr>\n",
       "      <th>327</th>\n",
       "      <td>5908.0</td>\n",
       "      <td>3.91</td>\n",
       "      <td>299.0</td>\n",
       "      <td>72.334367</td>\n",
       "      <td>3</td>\n",
       "      <td>6</td>\n",
       "    </tr>\n",
       "    <tr>\n",
       "      <th>328</th>\n",
       "      <td>10320.0</td>\n",
       "      <td>6.82</td>\n",
       "      <td>324.0</td>\n",
       "      <td>72.996975</td>\n",
       "      <td>6</td>\n",
       "      <td>0</td>\n",
       "    </tr>\n",
       "    <tr>\n",
       "      <th>329</th>\n",
       "      <td>10145.0</td>\n",
       "      <td>6.71</td>\n",
       "      <td>313.0</td>\n",
       "      <td>76.664489</td>\n",
       "      <td>3</td>\n",
       "      <td>0</td>\n",
       "    </tr>\n",
       "    <tr>\n",
       "      <th>330</th>\n",
       "      <td>10147.0</td>\n",
       "      <td>6.71</td>\n",
       "      <td>335.0</td>\n",
       "      <td>79.474591</td>\n",
       "      <td>5</td>\n",
       "      <td>0</td>\n",
       "    </tr>\n",
       "    <tr>\n",
       "      <th>331</th>\n",
       "      <td>13217.0</td>\n",
       "      <td>8.74</td>\n",
       "      <td>333.0</td>\n",
       "      <td>82.040182</td>\n",
       "      <td>2</td>\n",
       "      <td>0</td>\n",
       "    </tr>\n",
       "  </tbody>\n",
       "</table>\n",
       "<p>332 rows × 6 columns</p>\n",
       "</div>"
      ],
      "text/plain": [
       "     TotalSteps  TotalDistance  TotalActiveMinutes  Heart_rate  Day_encoded  \\\n",
       "0        5135.0           3.39               318.0   76.639377            3   \n",
       "1        6799.0           4.49               279.0   81.556556            4   \n",
       "2        4803.0           3.17               222.0   76.923272            6   \n",
       "3        8563.0           5.66               395.0   83.969233            3   \n",
       "4        3428.0           2.27               190.0   70.841904            5   \n",
       "..          ...            ...                 ...         ...          ...   \n",
       "327      5908.0           3.91               299.0   72.334367            3   \n",
       "328     10320.0           6.82               324.0   72.996975            6   \n",
       "329     10145.0           6.71               313.0   76.664489            3   \n",
       "330     10147.0           6.71               335.0   79.474591            5   \n",
       "331     13217.0           8.74               333.0   82.040182            2   \n",
       "\n",
       "     Month_encoded  \n",
       "0                2  \n",
       "1                0  \n",
       "2                0  \n",
       "3                0  \n",
       "4                4  \n",
       "..             ...  \n",
       "327              6  \n",
       "328              0  \n",
       "329              0  \n",
       "330              0  \n",
       "331              0  \n",
       "\n",
       "[332 rows x 6 columns]"
      ]
     },
     "execution_count": 30,
     "metadata": {},
     "output_type": "execute_result"
    }
   ],
   "source": [
    "x_df"
   ]
  },
  {
   "cell_type": "code",
   "execution_count": 31,
   "id": "555948f0",
   "metadata": {},
   "outputs": [
    {
     "data": {
      "text/plain": [
       "0      1909\n",
       "1      1922\n",
       "2      1788\n",
       "3      2173\n",
       "4      1692\n",
       "       ... \n",
       "327    1850\n",
       "328    2034\n",
       "329    2027\n",
       "330    2086\n",
       "331    2173\n",
       "Name: Calories, Length: 332, dtype: int64"
      ]
     },
     "execution_count": 31,
     "metadata": {},
     "output_type": "execute_result"
    }
   ],
   "source": [
    "y_df"
   ]
  },
  {
   "cell_type": "code",
   "execution_count": 32,
   "id": "53a3c2a9",
   "metadata": {},
   "outputs": [],
   "source": [
    "from sklearn.model_selection import train_test_split"
   ]
  },
  {
   "cell_type": "code",
   "execution_count": 33,
   "id": "e6a4cc45",
   "metadata": {},
   "outputs": [],
   "source": [
    "x_train, x_test, y_train, y_test = train_test_split(x_df,y_df,test_size=0.05,random_state=46)"
   ]
  },
  {
   "cell_type": "markdown",
   "id": "c79055da",
   "metadata": {},
   "source": [
    "### The model gave more accurate values without scaling the data"
   ]
  },
  {
   "cell_type": "code",
   "execution_count": 34,
   "id": "376cc03b",
   "metadata": {},
   "outputs": [
    {
     "data": {
      "text/plain": [
       "(315, 6)"
      ]
     },
     "execution_count": 34,
     "metadata": {},
     "output_type": "execute_result"
    }
   ],
   "source": [
    "x_train.shape"
   ]
  },
  {
   "cell_type": "code",
   "execution_count": 35,
   "id": "b24cfabb",
   "metadata": {},
   "outputs": [
    {
     "data": {
      "text/plain": [
       "(315,)"
      ]
     },
     "execution_count": 35,
     "metadata": {},
     "output_type": "execute_result"
    }
   ],
   "source": [
    "y_train.shape"
   ]
  },
  {
   "cell_type": "markdown",
   "id": "27ec2cc3",
   "metadata": {},
   "source": [
    "# Linear Regression"
   ]
  },
  {
   "cell_type": "code",
   "execution_count": 36,
   "id": "e04aebc8",
   "metadata": {},
   "outputs": [],
   "source": [
    "from sklearn.linear_model import LinearRegression\n",
    "from sklearn.metrics import mean_squared_error"
   ]
  },
  {
   "cell_type": "code",
   "execution_count": 37,
   "id": "dbb71c69",
   "metadata": {},
   "outputs": [
    {
     "data": {
      "text/html": [
       "<style>#sk-container-id-1 {color: black;}#sk-container-id-1 pre{padding: 0;}#sk-container-id-1 div.sk-toggleable {background-color: white;}#sk-container-id-1 label.sk-toggleable__label {cursor: pointer;display: block;width: 100%;margin-bottom: 0;padding: 0.3em;box-sizing: border-box;text-align: center;}#sk-container-id-1 label.sk-toggleable__label-arrow:before {content: \"▸\";float: left;margin-right: 0.25em;color: #696969;}#sk-container-id-1 label.sk-toggleable__label-arrow:hover:before {color: black;}#sk-container-id-1 div.sk-estimator:hover label.sk-toggleable__label-arrow:before {color: black;}#sk-container-id-1 div.sk-toggleable__content {max-height: 0;max-width: 0;overflow: hidden;text-align: left;background-color: #f0f8ff;}#sk-container-id-1 div.sk-toggleable__content pre {margin: 0.2em;color: black;border-radius: 0.25em;background-color: #f0f8ff;}#sk-container-id-1 input.sk-toggleable__control:checked~div.sk-toggleable__content {max-height: 200px;max-width: 100%;overflow: auto;}#sk-container-id-1 input.sk-toggleable__control:checked~label.sk-toggleable__label-arrow:before {content: \"▾\";}#sk-container-id-1 div.sk-estimator input.sk-toggleable__control:checked~label.sk-toggleable__label {background-color: #d4ebff;}#sk-container-id-1 div.sk-label input.sk-toggleable__control:checked~label.sk-toggleable__label {background-color: #d4ebff;}#sk-container-id-1 input.sk-hidden--visually {border: 0;clip: rect(1px 1px 1px 1px);clip: rect(1px, 1px, 1px, 1px);height: 1px;margin: -1px;overflow: hidden;padding: 0;position: absolute;width: 1px;}#sk-container-id-1 div.sk-estimator {font-family: monospace;background-color: #f0f8ff;border: 1px dotted black;border-radius: 0.25em;box-sizing: border-box;margin-bottom: 0.5em;}#sk-container-id-1 div.sk-estimator:hover {background-color: #d4ebff;}#sk-container-id-1 div.sk-parallel-item::after {content: \"\";width: 100%;border-bottom: 1px solid gray;flex-grow: 1;}#sk-container-id-1 div.sk-label:hover label.sk-toggleable__label {background-color: #d4ebff;}#sk-container-id-1 div.sk-serial::before {content: \"\";position: absolute;border-left: 1px solid gray;box-sizing: border-box;top: 0;bottom: 0;left: 50%;z-index: 0;}#sk-container-id-1 div.sk-serial {display: flex;flex-direction: column;align-items: center;background-color: white;padding-right: 0.2em;padding-left: 0.2em;position: relative;}#sk-container-id-1 div.sk-item {position: relative;z-index: 1;}#sk-container-id-1 div.sk-parallel {display: flex;align-items: stretch;justify-content: center;background-color: white;position: relative;}#sk-container-id-1 div.sk-item::before, #sk-container-id-1 div.sk-parallel-item::before {content: \"\";position: absolute;border-left: 1px solid gray;box-sizing: border-box;top: 0;bottom: 0;left: 50%;z-index: -1;}#sk-container-id-1 div.sk-parallel-item {display: flex;flex-direction: column;z-index: 1;position: relative;background-color: white;}#sk-container-id-1 div.sk-parallel-item:first-child::after {align-self: flex-end;width: 50%;}#sk-container-id-1 div.sk-parallel-item:last-child::after {align-self: flex-start;width: 50%;}#sk-container-id-1 div.sk-parallel-item:only-child::after {width: 0;}#sk-container-id-1 div.sk-dashed-wrapped {border: 1px dashed gray;margin: 0 0.4em 0.5em 0.4em;box-sizing: border-box;padding-bottom: 0.4em;background-color: white;}#sk-container-id-1 div.sk-label label {font-family: monospace;font-weight: bold;display: inline-block;line-height: 1.2em;}#sk-container-id-1 div.sk-label-container {text-align: center;}#sk-container-id-1 div.sk-container {/* jupyter's `normalize.less` sets `[hidden] { display: none; }` but bootstrap.min.css set `[hidden] { display: none !important; }` so we also need the `!important` here to be able to override the default hidden behavior on the sphinx rendered scikit-learn.org. See: https://github.com/scikit-learn/scikit-learn/issues/21755 */display: inline-block !important;position: relative;}#sk-container-id-1 div.sk-text-repr-fallback {display: none;}</style><div id=\"sk-container-id-1\" class=\"sk-top-container\"><div class=\"sk-text-repr-fallback\"><pre>LinearRegression()</pre><b>In a Jupyter environment, please rerun this cell to show the HTML representation or trust the notebook. <br />On GitHub, the HTML representation is unable to render, please try loading this page with nbviewer.org.</b></div><div class=\"sk-container\" hidden><div class=\"sk-item\"><div class=\"sk-estimator sk-toggleable\"><input class=\"sk-toggleable__control sk-hidden--visually\" id=\"sk-estimator-id-1\" type=\"checkbox\" checked><label for=\"sk-estimator-id-1\" class=\"sk-toggleable__label sk-toggleable__label-arrow\">LinearRegression</label><div class=\"sk-toggleable__content\"><pre>LinearRegression()</pre></div></div></div></div></div>"
      ],
      "text/plain": [
       "LinearRegression()"
      ]
     },
     "execution_count": 37,
     "metadata": {},
     "output_type": "execute_result"
    }
   ],
   "source": [
    "linear_regressor = LinearRegression()\n",
    "linear_regressor.fit(x_train, y_train)"
   ]
  },
  {
   "cell_type": "code",
   "execution_count": 38,
   "id": "eb47fc82",
   "metadata": {},
   "outputs": [],
   "source": [
    "#making predictions\n",
    "y_pred = linear_regressor.predict(x_test)"
   ]
  },
  {
   "cell_type": "code",
   "execution_count": 39,
   "id": "9a24c837",
   "metadata": {},
   "outputs": [
    {
     "name": "stdout",
     "output_type": "stream",
     "text": [
      "Mean Squared Error: 156931.0185165997\n",
      "Coefficients: [-2.38907462e-01  4.16650204e+02  1.34457408e+00  1.33757953e+00\n",
      "  8.27050712e+00 -2.17629277e+00]\n",
      "Intercept: 1500.5262978733433\n"
     ]
    }
   ],
   "source": [
    "# Evaluating the model\n",
    "mse = mean_squared_error(y_test, y_pred)\n",
    "print(\"Mean Squared Error:\", mse)\n",
    "print(\"Coefficients:\", linear_regressor.coef_)\n",
    "print(\"Intercept:\", linear_regressor.intercept_)"
   ]
  },
  {
   "cell_type": "code",
   "execution_count": 40,
   "id": "dc696936",
   "metadata": {},
   "outputs": [
    {
     "name": "stdout",
     "output_type": "stream",
     "text": [
      "R² Score: 0.7374500950013464\n"
     ]
    }
   ],
   "source": [
    "from sklearn.metrics import r2_score\n",
    "\n",
    "r2 = r2_score(y_test, y_pred)\n",
    "print(\"R² Score:\", r2)"
   ]
  },
  {
   "cell_type": "markdown",
   "id": "95b6d1fa",
   "metadata": {},
   "source": [
    "# Ridge Regression"
   ]
  },
  {
   "cell_type": "code",
   "execution_count": 41,
   "id": "202bef3e",
   "metadata": {},
   "outputs": [
    {
     "name": "stdout",
     "output_type": "stream",
     "text": [
      "Mean Squared Error (Ridge): 157108.13055890717\n",
      "Coefficients (Ridge): [-2.35870156e-01  4.12704518e+02  1.33658882e+00  1.31708286e+00\n",
      "  8.27557565e+00 -2.19791719e+00]\n",
      "Intercept (Ridge): 1502.2653985999398\n"
     ]
    }
   ],
   "source": [
    "from sklearn.linear_model import Ridge\n",
    "\n",
    "# Creating and training the Ridge Regression model\n",
    "ridge_regressor = Ridge(alpha=1.0)\n",
    "ridge_regressor.fit(x_train, y_train)\n",
    "\n",
    "# Making predictions\n",
    "y_pred_ridge = ridge_regressor.predict(x_test)\n",
    "\n",
    "# Evaluating the model\n",
    "mse_ridge = mean_squared_error(y_test, y_pred_ridge)\n",
    "print(\"Mean Squared Error (Ridge):\", mse_ridge)\n",
    "print(\"Coefficients (Ridge):\", ridge_regressor.coef_)\n",
    "print(\"Intercept (Ridge):\", ridge_regressor.intercept_)"
   ]
  },
  {
   "cell_type": "code",
   "execution_count": 42,
   "id": "46f86bb3",
   "metadata": {},
   "outputs": [
    {
     "name": "stdout",
     "output_type": "stream",
     "text": [
      "R² Score: 0.7371537816891568\n"
     ]
    }
   ],
   "source": [
    "r2r = r2_score(y_test, y_pred_ridge)\n",
    "print(\"R² Score:\", r2r)"
   ]
  },
  {
   "cell_type": "code",
   "execution_count": 43,
   "id": "f40ac329",
   "metadata": {},
   "outputs": [
    {
     "name": "stdout",
     "output_type": "stream",
     "text": [
      "Mean Squared Error (Lasso): 156950.13309206814\n",
      "Coefficients (Lasso): [-2.38674588e-01  4.16349218e+02  1.34393988e+00  1.33492352e+00\n",
      "  8.24594109e+00 -2.16876323e+00]\n",
      "Intercept (Lasso): 1500.7952615759868\n"
     ]
    }
   ],
   "source": [
    "from sklearn.linear_model import Lasso\n",
    "\n",
    "# Creating and training the Lasso Regression model\n",
    "lasso_regressor = Lasso(alpha=0.1)\n",
    "lasso_regressor.fit(x_train, y_train)\n",
    "\n",
    "# Making predictions\n",
    "y_pred_lasso = lasso_regressor.predict(x_test)\n",
    "\n",
    "# Evaluating the model\n",
    "mse_lasso = mean_squared_error(y_test, y_pred_lasso)\n",
    "print(\"Mean Squared Error (Lasso):\", mse_lasso)\n",
    "print(\"Coefficients (Lasso):\", lasso_regressor.coef_)\n",
    "print(\"Intercept (Lasso):\", lasso_regressor.intercept_)"
   ]
  },
  {
   "cell_type": "code",
   "execution_count": 44,
   "id": "1c9f7fb1",
   "metadata": {},
   "outputs": [
    {
     "name": "stdout",
     "output_type": "stream",
     "text": [
      "R² Score: 0.737418115791495\n"
     ]
    }
   ],
   "source": [
    "r2l = r2_score(y_test, y_pred_lasso)\n",
    "print(\"R² Score:\", r2l)"
   ]
  },
  {
   "cell_type": "markdown",
   "id": "9f5c3d73",
   "metadata": {},
   "source": [
    "# Polynomial Regression"
   ]
  },
  {
   "cell_type": "code",
   "execution_count": 45,
   "id": "9eafd8a9",
   "metadata": {},
   "outputs": [
    {
     "name": "stdout",
     "output_type": "stream",
     "text": [
      "Mean Squared Error (Polynomial): 136753.549250163\n"
     ]
    },
    {
     "name": "stderr",
     "output_type": "stream",
     "text": [
      "C:\\Users\\aadin\\anaconda3\\Lib\\site-packages\\sklearn\\linear_model\\_ridge.py:211: LinAlgWarning: Ill-conditioned matrix (rcond=3.02468e-20): result may not be accurate.\n",
      "  return linalg.solve(A, Xy, assume_a=\"pos\", overwrite_a=True).T\n"
     ]
    }
   ],
   "source": [
    "from sklearn.preprocessing import PolynomialFeatures\n",
    "from sklearn.pipeline import make_pipeline\n",
    "\n",
    "# Generating polynomial features\n",
    "poly_features = PolynomialFeatures(degree=2)\n",
    "\n",
    "# Creating and training the Polynomial Regression model\n",
    "poly_regressor = make_pipeline(poly_features, Ridge(alpha=0.1))\n",
    "poly_regressor.fit(x_train, y_train)\n",
    "\n",
    "# Making predictions\n",
    "y_pred_poly = poly_regressor.predict(x_test)\n",
    "\n",
    "# Evaluating the model\n",
    "mse_poly = mean_squared_error(y_test, y_pred_poly)\n",
    "print(\"Mean Squared Error (Polynomial):\", mse_poly)"
   ]
  },
  {
   "cell_type": "code",
   "execution_count": 46,
   "id": "83c2ae6b",
   "metadata": {},
   "outputs": [
    {
     "name": "stdout",
     "output_type": "stream",
     "text": [
      "R² Score: 0.7712075553752867\n"
     ]
    }
   ],
   "source": [
    "r2p = r2_score(y_test, y_pred_poly)\n",
    "print(\"R² Score:\", r2p)"
   ]
  },
  {
   "cell_type": "markdown",
   "id": "5376656f",
   "metadata": {},
   "source": [
    "# Comparing Models"
   ]
  },
  {
   "cell_type": "code",
   "execution_count": 47,
   "id": "ee39e1b0",
   "metadata": {},
   "outputs": [],
   "source": [
    "import numpy as np\n",
    "import pandas as pd\n",
    "from sklearn.model_selection import train_test_split, cross_val_score\n",
    "from sklearn.linear_model import LinearRegression, Ridge, Lasso\n",
    "from sklearn.preprocessing import PolynomialFeatures\n",
    "from sklearn.pipeline import make_pipeline\n",
    "from sklearn.svm import SVR\n",
    "from sklearn.tree import DecisionTreeRegressor\n",
    "from sklearn.ensemble import RandomForestRegressor, GradientBoostingRegressor\n",
    "from sklearn.metrics import mean_squared_error, r2_score"
   ]
  },
  {
   "cell_type": "code",
   "execution_count": 48,
   "id": "18be20f4",
   "metadata": {},
   "outputs": [
    {
     "name": "stdout",
     "output_type": "stream",
     "text": [
      "Linear Regression: MSE = 156931.0185, R² = 0.7375\n",
      "Polynomial Regression (degree=2): MSE = 142012.3130, R² = 0.7624\n",
      "Ridge Regression: MSE = 156948.5005, R² = 0.7374\n",
      "Lasso Regression: MSE = 156950.1331, R² = 0.7374\n",
      "Support Vector Regression: MSE = 618954.7826, R² = -0.0355\n",
      "Decision Tree: MSE = 573853.9412, R² = 0.0399\n",
      "Random Forest: MSE = 158639.5666, R² = 0.7346\n",
      "Gradient Boosting: MSE = 161693.6204, R² = 0.7295\n"
     ]
    }
   ],
   "source": [
    "models = {\n",
    "    'Linear Regression': LinearRegression(),\n",
    "    'Polynomial Regression (degree=2)': make_pipeline(PolynomialFeatures(degree=2), LinearRegression()),\n",
    "    'Ridge Regression': Ridge(alpha=0.1),\n",
    "    'Lasso Regression': Lasso(alpha=0.1),\n",
    "    'Support Vector Regression': SVR(kernel='rbf', C=100, gamma=0.1, epsilon=.1),\n",
    "    'Decision Tree': DecisionTreeRegressor(random_state=42),\n",
    "    'Random Forest': RandomForestRegressor(n_estimators=100, random_state=42),\n",
    "    'Gradient Boosting': GradientBoostingRegressor(n_estimators=100, random_state=42)\n",
    "}\n",
    "\n",
    "# Evaluate models\n",
    "results = {}\n",
    "\n",
    "for name, model in models.items():\n",
    "    model.fit(x_train, y_train)\n",
    "    y_pred = model.predict(x_test)\n",
    "    mse = mean_squared_error(y_test, y_pred)\n",
    "    r2 = r2_score(y_test, y_pred)\n",
    "    results[name] = {'MSE': mse, 'R²': r2}\n",
    "\n",
    "# Print results\n",
    "for name, metrics in results.items():\n",
    "    print(f\"{name}: MSE = {metrics['MSE']:.4f}, R² = {metrics['R²']:.4f}\")"
   ]
  },
  {
   "cell_type": "code",
   "execution_count": 49,
   "id": "7bf91101",
   "metadata": {},
   "outputs": [
    {
     "name": "stdout",
     "output_type": "stream",
     "text": [
      "Best parameters found:  {'poly_features__degree': 2, 'regressor__alpha': 0.01}\n",
      "Best cross-validation score (negative MSE):  -255281.02378660423\n",
      "Test set Mean Squared Error:  132422.39618753982\n",
      "Test set R² Score:  0.7784536934292882\n"
     ]
    }
   ],
   "source": [
    "import numpy as np\n",
    "import pandas as pd\n",
    "from sklearn.model_selection import GridSearchCV, train_test_split\n",
    "from sklearn.preprocessing import PolynomialFeatures, StandardScaler\n",
    "from sklearn.linear_model import Ridge\n",
    "from sklearn.pipeline import Pipeline, make_pipeline\n",
    "from sklearn.metrics import mean_squared_error\n",
    "import matplotlib.pyplot as plt\n",
    "\n",
    "# 3. Set up the pipeline\n",
    "pipeline = Pipeline([\n",
    "    ('poly_features', PolynomialFeatures()),\n",
    "    ('scaler', StandardScaler()),\n",
    "    ('regressor', Ridge())  # You can use LinearRegression() instead of Ridge() if you don't want regularization\n",
    "])\n",
    "\n",
    "# 4. Define the parameter grid\n",
    "param_grid = {\n",
    "    'poly_features__degree': [2, 3, 4, 5],\n",
    "    'regressor__alpha': [0.01, 0.1, 1, 10, 100]  # Only applicable if you use Ridge\n",
    "}\n",
    "\n",
    "# 5. Use GridSearchCV\n",
    "grid_search = GridSearchCV(pipeline, param_grid, cv=5, scoring='neg_mean_squared_error')\n",
    "grid_search.fit(x_train, y_train)\n",
    "\n",
    "# 6. Evaluate the results\n",
    "print(\"Best parameters found: \", grid_search.best_params_)\n",
    "print(\"Best cross-validation score (negative MSE): \", grid_search.best_score_)\n",
    "\n",
    "# Predictions and evaluation on the test set\n",
    "y_pred = grid_search.best_estimator_.predict(x_test)\n",
    "mse = mean_squared_error(y_test, y_pred)\n",
    "r2 = r2_score(y_test, y_pred)\n",
    "print(\"Test set Mean Squared Error: \", mse)\n",
    "print(\"Test set R² Score: \", r2)"
   ]
  },
  {
   "cell_type": "code",
   "execution_count": 96,
   "id": "354d4764",
   "metadata": {},
   "outputs": [
    {
     "name": "stdout",
     "output_type": "stream",
     "text": [
      "Best parameters found:  {'bootstrap': True, 'max_depth': 20, 'min_samples_leaf': 1, 'min_samples_split': 10, 'n_estimators': 100}\n",
      "Best cross-validation score (negative MSE):  -251560.63387022176\n",
      "Test set Mean Squared Error:  159174.73010491833\n",
      "Test set R² Score:  0.7336963038775405\n"
     ]
    }
   ],
   "source": [
    "rf = RandomForestRegressor()\n",
    "\n",
    "# Define the parameter grid\n",
    "param_grid = {\n",
    "    'n_estimators': [100],\n",
    "    'max_depth': [20],\n",
    "    'min_samples_split': [10],\n",
    "    'min_samples_leaf': [1],\n",
    "    'bootstrap': [True]\n",
    "}\n",
    "\n",
    "# Set up the GridSearchCV\n",
    "grid_search = GridSearchCV(estimator=rf, param_grid=param_grid, cv=5, scoring='neg_mean_squared_error', n_jobs=-1)\n",
    "\n",
    "# Fit the grid search to the data\n",
    "grid_search.fit(x_train, y_train)\n",
    "\n",
    "# Print the best parameters and the best score\n",
    "print(\"Best parameters found: \", grid_search.best_params_)\n",
    "print(\"Best cross-validation score (negative MSE): \", grid_search.best_score_)\n",
    "\n",
    "# Evaluate the best model on the test set\n",
    "best_rf = grid_search.best_estimator_\n",
    "y_pred = best_rf.predict(x_test)\n",
    "mse = mean_squared_error(y_test, y_pred)\n",
    "print(\"Test set Mean Squared Error: \", mse)\n",
    "r2 = r2_score(y_test, y_pred)\n",
    "print(\"Test set R² Score: \", r2)"
   ]
  },
  {
   "cell_type": "code",
   "execution_count": 97,
   "id": "36c5f54f",
   "metadata": {},
   "outputs": [
    {
     "data": {
      "text/plain": [
       "Text(0.5, 1.0, 'Random Forest Regressor')"
      ]
     },
     "execution_count": 97,
     "metadata": {},
     "output_type": "execute_result"
    },
    {
     "data": {
      "image/png": "[encoded data removed]",
      "text/plain": [
       "<Figure size 640x480 with 1 Axes>"
      ]
     },
     "metadata": {},
     "output_type": "display_data"
    }
   ],
   "source": [
    "# Random Forest\n",
    "plt.subplot(1, 5, 2)\n",
    "plt.scatter(y_test, y_pred, color='green', edgecolors='k')\n",
    "plt.plot([min(y_test), max(y_test)], [min(y_test), max(y_test)], color='red', lw=2)\n",
    "plt.xlabel('Actual Price')\n",
    "plt.ylabel('Predicted Price')\n",
    "plt.title('Random Forest Regressor')"
   ]
  },
  {
   "cell_type": "code",
   "execution_count": 98,
   "id": "8ddf1523",
   "metadata": {},
   "outputs": [
    {
     "name": "stdout",
     "output_type": "stream",
     "text": [
      "Predicted Calories: [2003.53779143]\n"
     ]
    },
    {
     "name": "stderr",
     "output_type": "stream",
     "text": [
      "C:\\Users\\aadin\\anaconda3\\Lib\\site-packages\\sklearn\\base.py:464: UserWarning: X does not have valid feature names, but RandomForestRegressor was fitted with feature names\n",
      "  warnings.warn(\n"
     ]
    }
   ],
   "source": [
    "X_split = np.array([[5135, 3.39, 318, 76.639377,3,2]])\n",
    "\n",
    "# Make predictions for the input values\n",
    "calories_predictions = best_rf.predict(X_split)\n",
    "\n",
    "# Print the predictions\n",
    "print(\"Predicted Calories:\", calories_predictions)"
   ]
  },
  {
   "cell_type": "code",
   "execution_count": 52,
   "id": "67cbae6f",
   "metadata": {
    "scrolled": true
   },
   "outputs": [
    {
     "name": "stdout",
     "output_type": "stream",
     "text": [
      "Predicted Calories: [2238.17055703]\n"
     ]
    },
    {
     "name": "stderr",
     "output_type": "stream",
     "text": [
      "C:\\Users\\aadin\\anaconda3\\Lib\\site-packages\\sklearn\\base.py:464: UserWarning: X does not have valid feature names, but PolynomialFeatures was fitted with feature names\n",
      "  warnings.warn(\n"
     ]
    }
   ],
   "source": [
    "# Example input values (replace with your own input values)\n",
    "X_split = np.array([[5135, 3.39, 318, 76.639377,3,2]]) \n",
    "# Make predictions for the input values\n",
    "calories_predictions = poly_regressor.predict(X_split)\n",
    "\n",
    "# Print the predictions\n",
    "print(\"Predicted Calories:\", calories_predictions)"
   ]
  },
  {
   "cell_type": "code",
   "execution_count": null,
   "id": "0feeb93b",
   "metadata": {},
   "outputs": [],
   "source": []
  }
 ],
 "metadata": {
  "kernelspec": {
   "display_name": "Python 3 (ipykernel)",
   "language": "python",
   "name": "python3"
  },
  "language_info": {
   "codemirror_mode": {
    "name": "ipython",
    "version": 3
   },
   "file_extension": ".py",
   "mimetype": "text/x-python",
   "name": "python",
   "nbconvert_exporter": "python",
   "pygments_lexer": "ipython3",
   "version": "3.11.4"
  }
 },
 "nbformat": 4,
 "nbformat_minor": 5
}
